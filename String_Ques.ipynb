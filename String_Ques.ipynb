{
 "cells": [
  {
   "cell_type": "code",
   "execution_count": 36,
   "metadata": {},
   "outputs": [
    {
     "name": "stdout",
     "output_type": "stream",
     "text": [
      "STRING ENTERED: \n",
      "STRING LENGTH = 0\n"
     ]
    }
   ],
   "source": [
    "# OUES-1 Write a Python program to calculate the length of a string.\n",
    "a=input(\"ENTER THE STRING\")\n",
    "len=0\n",
    "for i in a:\n",
    "    len=len+1;\n",
    "print(f\"STRING ENTERED: {a}\")\n",
    "print(f\"STRING LENGTH = {len}\")\n"
   ]
  },
  {
   "cell_type": "code",
   "execution_count": 37,
   "metadata": {},
   "outputs": [
    {
     "name": "stdout",
     "output_type": "stream",
     "text": [
      "STRNG ENTERED: \n",
      "REVERSED STRING: \n"
     ]
    }
   ],
   "source": [
    "# Ques-2  Write a Python program to reverse a given string.\n",
    "\n",
    "a=input(\"ENTER THE STRING\")\n",
    "print(f\"STRNG ENTERED: {a}\")\n",
    "print(f\"REVERSED STRING: {a[::-1]}\")"
   ]
  },
  {
   "cell_type": "code",
   "execution_count": 1,
   "metadata": {},
   "outputs": [
    {
     "name": "stdout",
     "output_type": "stream",
     "text": [
      "STRING:asdfge\n",
      "VOWEL IS PRESENT \n"
     ]
    }
   ],
   "source": [
    "# Oues-3  Write a Python program that counts the number of vowels in a given string (case-insensitive).\n",
    "a=input(\"ENTER THE STRING\")\n",
    "b=a.lower()\n",
    "isvowel=False\n",
    "vowel=\"\"\n",
    "for i in b:\n",
    "    if (i==\"a\" or i==\"e\" or i==\"i\" or i==\"o\" or a==\"u\"):\n",
    "        # print(f\"VOWEL PRESENT \");\n",
    "        isvowel=True\n",
    "        # vowel=vowel+i+;\n",
    "print(f\"STRING:{a}\")\n",
    "if (isvowel):\n",
    "    print(f\"VOWEL IS PRESENT \");\n",
    "else:\n",
    "    print(\"VOWEL NOT PRESENT\")\n",
    "    \n",
    "\n"
   ]
  },
  {
   "cell_type": "code",
   "execution_count": 39,
   "metadata": {},
   "outputs": [
    {
     "name": "stdout",
     "output_type": "stream",
     "text": [
      "STRING ENTERED: \n",
      "STRING ENTERED HAVES A NUMERIC DATA\n"
     ]
    }
   ],
   "source": [
    "# ques-5 Write a Python program to check if a string contains only numeric characters.\n",
    "\n",
    "a=input(\"ENTER STRING: \")\n",
    "isnumeric=True\n",
    "for i in a:\n",
    "    if (i==\"0\" or i==\"1\"or i==\"2\"or i==\"3\"or i==\"4\"or i==\"5\"or i==\"6\"or i==\"7\"or i==\"8\"or i==\"9\"):\n",
    "        isnumeric=True;\n",
    "    else:\n",
    "        isnumeric=False;\n",
    "        break;\n",
    "print(f\"STRING ENTERED: {a}\")\n",
    "if(isnumeric):\n",
    "    print(\"STRING ENTERED HAVES A NUMERIC DATA\");\n",
    "else:\n",
    "    print(\"STRING IS OF MIXED DATA\")\n"
   ]
  },
  {
   "cell_type": "code",
   "execution_count": 40,
   "metadata": {},
   "outputs": [
    {
     "name": "stdout",
     "output_type": "stream",
     "text": [
      "55 = 55\n",
      "IS A PARINDROM SRING\n"
     ]
    }
   ],
   "source": [
    "# Ques-4 Write a Python program to check if a given string is a palindrome (reads the same forwards and backwards).\n",
    "a=input(\"ENTER THE STRING: \")\n",
    "a=a.lower()\n",
    "b=a[::-1]\n",
    "print(f\"{a} = {b}\")\n",
    "if (a==b):\n",
    "    print(\"IS A PARINDROM SRING\")\n",
    "else:\n",
    "    print(\"NOT A PARINDROM STRING\")"
   ]
  },
  {
   "cell_type": "code",
   "execution_count": 1,
   "metadata": {},
   "outputs": [
    {
     "name": "stdout",
     "output_type": "stream",
     "text": [
      "STRING: LELLO WORLD \n",
      "LELLO\n",
      "WORLD\n"
     ]
    }
   ],
   "source": [
    "# QUES-6  Write a Python program to find and print all the words in a string.\n",
    "a=input(\"EMTER THE STRING\")\n",
    "a=a+\" \"\n",
    "print(f\"STRING: {a}\")\n",
    "word=\"\"\n",
    "for i in range(len(a)):\n",
    "    if (a[i]!=\" \"):\n",
    "        word=word+a[i];\n",
    "    else:\n",
    "        print(word)\n",
    "        word=\"\";\n",
    "\n",
    "\n"
   ]
  },
  {
   "cell_type": "code",
   "execution_count": null,
   "metadata": {},
   "outputs": [],
   "source": [
    "# QUES-7  Write a Python program to convert a string to title case (capitalize the first letter of each word).\n",
    "\n",
    "a = input(\"ENTER THE STRING \")\n",
    "b = \"\"\n",
    "\n",
    "for i in range(len(a)):\n",
    "    if i == 0 or a[i-1] == \" \":\n",
    "        b += a[i].upper()\n",
    "    else:\n",
    "        b += a[i]\n",
    "\n",
    "print(b)\n"
   ]
  },
  {
   "cell_type": "code",
   "execution_count": null,
   "metadata": {},
   "outputs": [],
   "source": [
    "# ques-8 : Write a Python program to count the number of consonants in a string.\n",
    "\n",
    "\n"
   ]
  },
  {
   "cell_type": "code",
   "execution_count": null,
   "metadata": {},
   "outputs": [
    {
     "name": "stdout",
     "output_type": "stream",
     "text": [
      "iamagoodboy\n"
     ]
    }
   ],
   "source": [
    "# ques 12 REMOVE ALL THE WHITE SPACES FRO THE STRING\n",
    "\n",
    "a=input(\"ENTER THE STRING: \")\n",
    "newstr=\"\"\n",
    "for i in a:\n",
    "    if(i==\" \"):\n",
    "        continue;\n",
    "    else:\n",
    "        newstr+=i;\n",
    "print(newstr)"
   ]
  },
  {
   "cell_type": "code",
   "execution_count": null,
   "metadata": {},
   "outputs": [],
   "source": [
    "# QUES 15 TO CHECK IT IS A VALID EMAIL OR NOT\n",
    "\n",
    "a=input(\"ENTER VALID EMAIL: \" )\n",
    "b=\"@gmail.com\";\n",
    "\n",
    "if (a[-10:]==b):\n",
    "    print(\"valid email\");\n",
    "else:\n",
    "    print(\"PLEASE ENTER A VALID EMAIL\")\n"
   ]
  },
  {
   "cell_type": "code",
   "execution_count": 4,
   "metadata": {},
   "outputs": [
    {
     "name": "stdout",
     "output_type": "stream",
     "text": [
      "The most common character is: 'a'\n"
     ]
    }
   ],
   "source": []
  }
 ],
 "metadata": {
  "kernelspec": {
   "display_name": "Python 3",
   "language": "python",
   "name": "python3"
  },
  "language_info": {
   "codemirror_mode": {
    "name": "ipython",
    "version": 3
   },
   "file_extension": ".py",
   "mimetype": "text/x-python",
   "name": "python",
   "nbconvert_exporter": "python",
   "pygments_lexer": "ipython3",
   "version": "3.11.2"
  }
 },
 "nbformat": 4,
 "nbformat_minor": 2
}
